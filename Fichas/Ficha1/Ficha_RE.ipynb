{
  "nbformat": 4,
  "nbformat_minor": 0,
  "metadata": {
    "colab": {
      "provenance": [],
      "collapsed_sections": [
        "6QP0erT4iSzE",
        "L71wvPCujpBD",
        "n49iafoNzw-3",
        "BHMk88OQ0XFY",
        "ZRWbgkMM5qzx",
        "QhpGhtBT7aD3"
      ]
    },
    "kernelspec": {
      "name": "python3",
      "display_name": "Python 3"
    },
    "language_info": {
      "name": "python"
    }
  },
  "cells": [
    {
      "cell_type": "markdown",
      "source": [
        "# Ficha de Expressões Regulares 1\n"
      ],
      "metadata": {
        "id": "oVaAea-wCM6H"
      }
    },
    {
      "cell_type": "markdown",
      "source": [
        "## Conceitos básicos de expressões regulares\n",
        "\n",
        "- `a` - corresponde a uma ocorrência do caracter `a`.\n",
        "- `a?` - corresponde a 0 ou 1 ocorrências do caracter `a`.\n",
        "- `a+` - corresponde a 1 ou mais ocorrências do caracter `a`.\n",
        "- `a*` - corresponde a 0 ou mais ocorrências do caracter `a`.\n",
        "- `[abc]` - corresponde a uma ocorrência de um dos caracteres `a`, `b` ou `c`.\n",
        "- `[a-z]` - corresponde a uma ocorrência de um caracter entre `a` e `z`.\n",
        "- `^` - corresponde ao início da string.\n",
        "- `$` - corresponde ao fim da string.\n",
        "- `[^abc]` - corresponde a uma ocorrência de qualquer caracter que não seja `a`, `b` ou `c`.\n",
        "\n",
        "Podemos usar o operador de união para unir várias expressões regulares. Por exemplo: `a|bbb|[^a-z]`, que corresponde a uma das várias (neste caso, 3) expressões regulares que fazem parte da união.\n",
        "\n",
        "Podemos simplificar expressões regulares como `bbb` para `b{3}`, ou seja, 3 ocorrências consecutivas do caracter `b`, neste caso. Outras opções incluem `b{3,}` para 3 ou mais ocorrências ou `b{3,6}` para entre 3 a 6 ocorrências, por exemplo.\n",
        "\n",
        "Para formar grupos de expressões regulares, usamos parênteses. Por exemplo: `((abc)*|[0-9]+)?`. Os operadores após um grupo atuam sobre o grupo.\n",
        "\n",
        "Podemos ainda aplicar modificadores a grupos. Por exemplo, `(?i:teste)` corresponde à expressão \"teste\", escrita com qualquer combinação de maiúsculas e minúsculas (e.g., \"TESTE\", \"tEsTe\", \"TEste\", etc.)."
      ],
      "metadata": {
        "id": "gk5jnHXt9t4y"
      }
    },
    {
      "cell_type": "code",
      "source": [
        "import re\n",
        "# match, search, compile, findall, split e o sub\n",
        "result = re.search(r\"teste\",\"1teste,\") # teste,\n",
        "print(result)\n",
        "#print(result.groups())\n",
        "#print(result.group(1))\n",
        "#print(result.span())\n",
        "#result = re.findall(\"[a-z]+,\",\"1teste,\") # teste,\n",
        "#print(result)\n",
        "x=re.compile(\"([a-z]+)(,)\")\n",
        "print(x.match(\"1teste,\"))\n",
        "result2 = re.sub(r\"([a-z]+)(,)\",\"adeus\",\"ola,coisas\") # pattern,rep, string origin\n",
        "print(result2)\n"
      ],
      "metadata": {
        "colab": {
          "base_uri": "https://localhost:8080/"
        },
        "id": "K_3uj9oyLxBv",
        "outputId": "7f67acc3-daac-4d49-968b-cad439e920f2"
      },
      "execution_count": null,
      "outputs": [
        {
          "output_type": "stream",
          "name": "stdout",
          "text": [
            "<re.Match object; span=(1, 6), match='teste'>\n",
            "None\n",
            "adeuscoisas\n"
          ]
        }
      ]
    },
    {
      "cell_type": "markdown",
      "source": [
        "## Exercício 0\n",
        "Especifique expressões regulares para strings binárias utilizando o [regex101](https://regex101.com/) (compostas apenas por 0's e 1's) atendendo às seguintes restrições:\n",
        "\n",
        "1.   Todas as strings binárias;\n",
        "2.   Todas as strings binárias excepto a string vazia;\n",
        "3.   Todas as strings binárias que começam e terminam por '1';\n",
        "4.   Todas as strings binárias que terminam por \"00\";\n",
        "5.   Todas as strings binárias que contêm pelo menos 3 '1';\n",
        "6.   Todas as strings binárias que contêm a substring \"110\";\n",
        "7.   Todas as strings binárias que não contêm a substring \"110\";\n",
        "8.   Todas as strings binárias que contêm pelo menos três carateres e o terceiro é '0';\n",
        "9.  Todas as strings binárias que começam e acabam pelo mesmo dígito.\n",
        "\n",
        "(Extraído de material do jcr)"
      ],
      "metadata": {
        "id": "47TE0MWfmzno"
      }
    },
    {
      "cell_type": "markdown",
      "source": [
        "## Exercício 1"
      ],
      "metadata": {
        "id": "yDRt0yOgJ-TW"
      }
    },
    {
      "cell_type": "markdown",
      "source": [
        "### Alínea 1.1\n",
        "\n",
        "Dada uma linha de texto, define um programa que determina se a palavra \"hello\" aparece no início da linha.\n",
        "\n",
        "Conceitos importantes para este exercício:\n",
        "\n",
        "- `re.match(pattern, string[, flags])` - analisa a `string` e tenta encontrar uma correspondência para a expressão regular `pattern` a partir do início da string. Devolve `None` se não encontrar nenhuma correspondência.\n",
        "- `r\"\"` - string correspondente a uma expressão regular."
      ],
      "metadata": {
        "id": "gI05knhniDCr"
      }
    },
    {
      "cell_type": "code",
      "execution_count": null,
      "metadata": {
        "id": "ufl-7TGph9WH",
        "colab": {
          "base_uri": "https://localhost:8080/",
          "height": 228
        },
        "outputId": "d49eb27a-82d4-4436-be73-1ea183997007"
      },
      "outputs": [
        {
          "name": "stdout",
          "output_type": "stream",
          "text": [
            "Linhas que contêm a palavra: hello no início (à esquerda)\n",
            ">> line1\n"
          ]
        },
        {
          "output_type": "error",
          "ename": "KeyboardInterrupt",
          "evalue": "",
          "traceback": [
            "\u001b[0;31m---------------------------------------------------------------------------\u001b[0m",
            "\u001b[0;31mKeyboardInterrupt\u001b[0m                         Traceback (most recent call last)",
            "\u001b[0;32m<ipython-input-2-c937b75dc600>\u001b[0m in \u001b[0;36m<cell line: 0>\u001b[0;34m()\u001b[0m\n\u001b[1;32m      7\u001b[0m \u001b[0mprint\u001b[0m\u001b[0;34m(\u001b[0m\u001b[0;34m\"Linhas que contêm a palavra: hello no início (à esquerda)\"\u001b[0m\u001b[0;34m)\u001b[0m\u001b[0;34m\u001b[0m\u001b[0;34m\u001b[0m\u001b[0m\n\u001b[1;32m      8\u001b[0m \u001b[0minputFromUser\u001b[0m \u001b[0;34m=\u001b[0m \u001b[0minput\u001b[0m\u001b[0;34m(\u001b[0m\u001b[0;34m\">> \"\u001b[0m\u001b[0;34m)\u001b[0m\u001b[0;34m\u001b[0m\u001b[0;34m\u001b[0m\u001b[0m\n\u001b[0;32m----> 9\u001b[0;31m \u001b[0;32mwhile\u001b[0m \u001b[0minputFromUser\u001b[0m \u001b[0;34m!=\u001b[0m \u001b[0;34m\"\"\u001b[0m\u001b[0;34m:\u001b[0m\u001b[0;34m\u001b[0m\u001b[0;34m\u001b[0m\u001b[0m\n\u001b[0m\u001b[1;32m     10\u001b[0m  \u001b[0;32mpass\u001b[0m\u001b[0;34m\u001b[0m\u001b[0;34m\u001b[0m\u001b[0m\n",
            "\u001b[0;31mKeyboardInterrupt\u001b[0m: "
          ]
        }
      ],
      "source": [
        "line1 = \"hello world\"\n",
        "line2 = \"goodbye world\"\n",
        "line3 = \"hi, hello there\"\n",
        "\n",
        "import re\n",
        "\n",
        "print(\"Linhas que contêm a palavra: hello no início (à esquerda)\")\n",
        "inputFromUser = input(\">> \")\n",
        "while inputFromUser != \"\":\n",
        " pass\n"
      ]
    },
    {
      "cell_type": "markdown",
      "source": [
        "### Alínea 1.2\n",
        "\n",
        "Dada uma linha de texto, define um programa que determina se a palavra \"hello\" aparece em qualquer posição da linha.\n",
        "\n",
        "Conceitos importantes para este exercício:\n",
        "\n",
        "- `re.search(pattern, string[, flags])` - analisa a `string` e tenta encontrar uma correspondência para a expressão regular `pattern` em qualquer posição da string. Devolve `None` se não encontrar nenhuma correspondência."
      ],
      "metadata": {
        "id": "gzgOACqiJ7VN"
      }
    },
    {
      "cell_type": "code",
      "execution_count": null,
      "metadata": {
        "id": "TM-qMl-yJ7VS"
      },
      "outputs": [],
      "source": [
        "line1 = \"hello world\"\n",
        "line2 = \"goodbye world\"\n",
        "line3 = \"hi, hello there\"\n",
        "\n",
        "# ...\n",
        "import re\n",
        "\n",
        "print(\"1. Linhas que contêm a palavra: hello\")\n",
        "inputFromUser = input(\">> \")\n",
        "while inputFromUser != \"\":\n",
        " pass\n"
      ]
    },
    {
      "cell_type": "markdown",
      "source": [
        "### Alínea 1.3\n",
        "\n",
        "Dada uma linha de texto, define um programa que pesquisa por todas as ocorrências da palavra \"hello\" dentro da linha, admitindo que a palavra seja escrita com maiúsculas ou minúsculas.\n",
        "\n",
        "Conceitos importantes para este exercício:\n",
        "\n",
        "- `re.findall(pattern, string[, flags])` - encontra todas as correspondências que não se sobreponham da expressão regular `pattern` na `string`. Devolve uma lista."
      ],
      "metadata": {
        "id": "6ZE7klswOy90"
      }
    },
    {
      "cell_type": "code",
      "source": [
        "line = \"Hello there! Uh, hi, hello, it's me... Heyyy, hello? HELLO!\"\n",
        "\n",
        "# ...\n",
        "import re\n",
        "\n",
        "inputFromUser = input(\">> \")\n",
        "while inputFromUser != \"\":\n",
        "  pass"
      ],
      "metadata": {
        "id": "aHB_l7g5OzNY"
      },
      "execution_count": null,
      "outputs": []
    },
    {
      "cell_type": "markdown",
      "source": [
        "### Alínea 1.4\n",
        "\n",
        "Dada uma linha de texto, define um programa que pesquisa por todas as ocorrências da palavra \"hello\" dentro da linha, substituindo cada uma por \"\\*YEP\\*\".\n",
        "\n",
        "Conceitos importantes para este exercício:\n",
        "\n",
        "- `re.sub(pattern, replacement, string, count = 0)` - substitui todas as correspondências da expressão regular `pattern` na `string` por `replacement`. `replacement` pode ser uma string, uma expressão regular ou uma função que recebe uma correspondência e devolve uma string. O parâmetro opcional `count` determina o limite de substituições (por omissão é 0, ou seja, não há limite)."
      ],
      "metadata": {
        "id": "TSwUj26OPRmP"
      }
    },
    {
      "cell_type": "code",
      "source": [
        "line = \"Hello there! Uh, hi, hello, it's me... Heyyy, hello? HELLO!\"\n",
        "\n",
        "# ...\n",
        "import re\n",
        "\n",
        "inputFromUser = input(\">> \")\n",
        "while inputFromUser != \"\":\n",
        "  pass"
      ],
      "metadata": {
        "id": "SXLK2rhMPf11"
      },
      "execution_count": null,
      "outputs": []
    },
    {
      "cell_type": "markdown",
      "source": [
        "### Alínea 1.5\n",
        "\n",
        "Dada uma linha de texto, define um programa que pesquisa por todas as ocorrências do caracter vírgula, separando cada parte da linha por esse caracter.\n",
        "\n",
        "Conceitos importantes para este exercício:\n",
        "\n",
        "- `re.split(pattern, string, maxsplit = 0)` - divide a `string` com base nas correspondências da expressão regular `pattern`. O parâmetro opcional `maxsplit` pode ser usado para definir um limite de divisões (por omissão é 0, que corresponde a qualquer números de divisões)."
      ],
      "metadata": {
        "id": "MrgsEzJCPgbO"
      }
    },
    {
      "cell_type": "code",
      "source": [
        "line = \"bananas, laranjas, maçãs, uvas, melancias, cerejas, kiwis, etc.\"\n",
        "\n",
        "# ...\n",
        "import re\n",
        "\n",
        "inputFromUser = input(\">> \")\n",
        "while inputFromUser != \"\":\n",
        "  pass\n"
      ],
      "metadata": {
        "id": "vrwiid6XPgvg"
      },
      "execution_count": null,
      "outputs": []
    },
    {
      "cell_type": "markdown",
      "source": [
        "## Exercício 2\n",
        "\n",
        "Define a função `palavra_magica` que recebe uma frase e determina se a mesma termina com a expressão \"por favor\", seguida de um sinal válido de pontuação."
      ],
      "metadata": {
        "id": "6QP0erT4iSzE"
      }
    },
    {
      "cell_type": "code",
      "source": [
        "import re\n",
        "\n",
        "def palavra_magica(frase):\n",
        "  pass\n",
        "\n",
        "print(palavra_magica(\"Posso ir à casa de banho, por favor?\"))\n",
        "print(palavra_magica(\"Preciso de um favor.\"))"
      ],
      "metadata": {
        "id": "MhCC49z7jU7n"
      },
      "execution_count": null,
      "outputs": []
    },
    {
      "cell_type": "markdown",
      "source": [
        "## Exercício 3\n",
        "\n",
        "Define a função `narcissismo` que calcula quantas vezes a palavra \"eu\" aparece numa string."
      ],
      "metadata": {
        "id": "L71wvPCujpBD"
      }
    },
    {
      "cell_type": "code",
      "source": [
        "import re\n",
        "\n",
        "def narcissismo(linha):\n",
        "    pass\n",
        "\n",
        "print(narcissismo(\"Eu não sei se eu quero continuar a ser eu. Por outro lado, eu ser eu é uma parte importante de quem EU sou.\"))"
      ],
      "metadata": {
        "id": "0HxFCow5nOj8"
      },
      "execution_count": null,
      "outputs": []
    },
    {
      "cell_type": "markdown",
      "source": [
        "## Exercício 4 ❎\n",
        "\n",
        "Define a função `troca_de_curso` que substitui todas as ocorrências de \"LEI\" numa linha pelo nome do curso dado à função."
      ],
      "metadata": {
        "id": "EKETfRaOolO4"
      }
    },
    {
      "cell_type": "code",
      "source": [
        "import re\n",
        "\n",
        "def troca_de_curso(linha, novo_curso):\n",
        "  nova_linha = re.sub(r\"LEI\", novo_curso, linha)\n",
        "  return nova_linha\n",
        "\n",
        "fonte = \"LEI é o melhor curso! Adoro LEI! Gostar de LEI devia ser uma lei.\"\n",
        "curso = input(\"Novo curso? \")\n",
        "print(troca_de_curso(fonte, curso))\n"
      ],
      "metadata": {
        "id": "8ZVPMxfZpRrx",
        "colab": {
          "base_uri": "https://localhost:8080/"
        },
        "outputId": "788f6152-ba9f-4856-bc8b-c8aec86297a7"
      },
      "execution_count": null,
      "outputs": [
        {
          "output_type": "stream",
          "name": "stdout",
          "text": [
            "Novo curso? MIEI\n",
            "MIEI é o melhor curso! Adoro MIEI! Gostar de MIEI devia ser uma lei.\n"
          ]
        }
      ]
    },
    {
      "cell_type": "code",
      "source": [
        "text = \"\"\n",
        "a = re.search(r\"\\\\\", r\"LEI1234\\\\\")\n",
        "print(a)"
      ],
      "metadata": {
        "colab": {
          "base_uri": "https://localhost:8080/"
        },
        "id": "LpYTXDINLabi",
        "outputId": "1f3f1a8e-c60e-443b-d2aa-52e4f8c14272"
      },
      "execution_count": null,
      "outputs": [
        {
          "output_type": "stream",
          "name": "stdout",
          "text": [
            "<re.Match object; span=(7, 8), match='\\\\'>\n"
          ]
        }
      ]
    },
    {
      "cell_type": "markdown",
      "source": [
        "## Exercício 5 ❎\n",
        "\n",
        "Define a função `soma_string` que recebe uma string com vários números separados por uma vírgula (e.g., \"1,2,3,4,5\") e devolve a soma destes números."
      ],
      "metadata": {
        "id": "GZKMkTKcp886"
      }
    },
    {
      "cell_type": "code",
      "source": [
        "\n",
        "import re\n",
        "\n",
        "def soma_string(linha):\n",
        "    linha = re.split(r',', linha)\n",
        "    soma = 0\n",
        "    for i in linha:\n",
        "        soma += int(i)\n",
        "    return soma\n",
        "\n",
        "print(soma_string(\"4,10,-6,2,3,8,-3,0,2,-5,1\"))\n",
        "print(soma_string(\"4,5,-3\"))\n"
      ],
      "metadata": {
        "id": "ExqmZwj_rzuR",
        "colab": {
          "base_uri": "https://localhost:8080/"
        },
        "outputId": "6ddb8361-2c0b-4c72-e9a0-3fc4618c975a"
      },
      "execution_count": null,
      "outputs": [
        {
          "output_type": "stream",
          "name": "stdout",
          "text": [
            "16\n",
            "6\n"
          ]
        }
      ]
    },
    {
      "cell_type": "markdown",
      "source": [
        "## Exercício 6\n",
        "\n",
        "Define a função `pronomes` que encontra e devolve todos os pronomes pessoais presentes numa frase, i.e., \"eu\", \"tu\", \"ele\", \"ela\", etc., com atenção para letras maiúsculas ou minúsculas."
      ],
      "metadata": {
        "id": "n49iafoNzw-3"
      }
    },
    {
      "cell_type": "code",
      "source": [
        "import re\n",
        "\n",
        "def toupper(lista):\n",
        "  pass\n",
        "\n",
        "def pronomes(frase):\n",
        "  pass\n",
        "\n",
        "pslist = pronomes(\"Ola eu vou de certeza. Tu tu e ele, vêm? Eu não espero por vós. Eu estou com pressa, ele tem de vir!\")\n",
        "print(pslist)\n",
        "\n",
        "print(set(pslist))\n",
        "psset = set(toupper(pslist))\n",
        "print(psset)\n",
        "\n"
      ],
      "metadata": {
        "id": "RnuCrz2H0DWq",
        "colab": {
          "base_uri": "https://localhost:8080/"
        },
        "outputId": "50b58a4f-5403-401c-a5b0-e1bce9cd072f"
      },
      "execution_count": null,
      "outputs": [
        {
          "output_type": "stream",
          "name": "stdout",
          "text": [
            "['eu', 'Tu', 'tu', 'ele', 'Eu', 'vós', 'Eu', 'ele']\n",
            "{'vós', 'Eu', 'tu', 'ele', 'eu', 'Tu'}\n",
            "{'VÓS', 'TU', 'ELE', 'EU'}\n"
          ]
        }
      ]
    },
    {
      "cell_type": "code",
      "source": [],
      "metadata": {
        "id": "VVFYkVyBgMU4"
      },
      "execution_count": null,
      "outputs": []
    },
    {
      "cell_type": "code",
      "source": [
        "# passem à frente !\n",
        "import re\n",
        "\n",
        "prons = {'eu','tu','ele','nós','vós','eles'}\n",
        "encontrados = set()\n",
        "frase = input(\">> \")\n",
        "while frase:\n",
        "  pass\n"
      ],
      "metadata": {
        "id": "Nx7BD5m_dfT7"
      },
      "execution_count": null,
      "outputs": []
    },
    {
      "cell_type": "markdown",
      "source": [
        "## Exercício 7\n",
        "\n",
        "Define a função `variavel_valida` que recebe uma string e determina se a mesma é um nome válido para uma variável, ou seja, se começa por uma letra e apenas contém letras, números ou *underscores*."
      ],
      "metadata": {
        "id": "BHMk88OQ0XFY"
      }
    },
    {
      "cell_type": "code",
      "source": [
        "import re\n",
        "\n",
        "def variavel_valida(id):\n",
        "  pass\n",
        "\n",
        "print(variavel_valida(\"aa11_aaaa\"))\n",
        "\n"
      ],
      "metadata": {
        "id": "YTQW91Ws1WLx",
        "colab": {
          "base_uri": "https://localhost:8080/"
        },
        "outputId": "5167819d-2b57-44f4-f468-e452fae42a5e"
      },
      "execution_count": null,
      "outputs": [
        {
          "output_type": "stream",
          "name": "stdout",
          "text": [
            "None\n"
          ]
        }
      ]
    },
    {
      "cell_type": "markdown",
      "source": [
        "## Exercício 8\n",
        "\n",
        "Define a função `inteiros` que devolve todos os números inteiros presentes numa string. Um número inteiro pode conter um ou mais dígitos e pode ser positivo ou negativo."
      ],
      "metadata": {
        "id": "ZRWbgkMM5qzx"
      }
    },
    {
      "cell_type": "code",
      "source": [
        "from re import *\n",
        "\n",
        "fonte = \"\"\"\n",
        "123 ddddd;\n",
        "+345.77 gkmrm;\n",
        "8766 yyyyy;\n",
        "-1234 +3ddd4 -15\n",
        "fim\n",
        "\"\"\"\n",
        "\n",
        "def extrai_inteiros(texto):\n",
        "  pass\n",
        "\n",
        "print(extrai_inteiros(fonte))"
      ],
      "metadata": {
        "id": "jsmiEi6gA7vh",
        "colab": {
          "base_uri": "https://localhost:8080/"
        },
        "outputId": "f24a38af-4dfc-46ee-b46b-4fe62c7c6377"
      },
      "execution_count": null,
      "outputs": [
        {
          "output_type": "stream",
          "name": "stdout",
          "text": [
            "None\n"
          ]
        }
      ]
    },
    {
      "cell_type": "markdown",
      "source": [
        "## Exercício 9\n",
        "\n",
        "Define a função `underscores` que substitui todos os espaços numa string por *underscores*. Se aparecerem vários espaços seguidos, devem ser substituídos por apenas um *underscore*."
      ],
      "metadata": {
        "id": "QhpGhtBT7aD3"
      }
    },
    {
      "cell_type": "code",
      "source": [
        "import re\n",
        "\n",
        "def underscores( frase ):\n",
        "  pass\n",
        "\n",
        "print(underscores(\"Aqui temos   um belo  exemplo   de frase!\"))\n"
      ],
      "metadata": {
        "id": "1YTIkZT-6Ase"
      },
      "execution_count": null,
      "outputs": []
    },
    {
      "cell_type": "markdown",
      "source": [
        "## Exercício 10 ❎\n",
        "\n",
        "Define a função `codigos_postais` que recebe uma lista de códigos postais válidos e divide-os com base no hífen. A função deve devolver uma lista de pares."
      ],
      "metadata": {
        "id": "xcUrRlIy8uof"
      }
    },
    {
      "cell_type": "code",
      "source": [
        "import re\n",
        "\n",
        "  lista = [\n",
        "      \"4700-000\",\n",
        "      \"1234-567\",\n",
        "      \"8541-543\",\n",
        "      \"4123-974\",\n",
        "      \"9481-025\",\n",
        "      \"9481-02512\",\n",
        "      \"9481-025-123\"\n",
        "  ]\n",
        "  lista2 = \"1100-3#1234-777#1198-999#4715-012\"\n",
        "\n",
        "  def codigos(listaCPs):\n",
        "    output = []\n",
        "    for i in listaCPs:\n",
        "      #if re.search(r\"\\d{4}-\\d{3}\")\n",
        "        #output.append(re.split(r'-',i))\n",
        "      a = re.split(r'-',i)\n",
        "      if len(a)==2 and re.search(r'^\\d{4}$',a[0]) and re.search(r'^\\d{3}$',a[1]):\n",
        "        output.append(a)\n",
        "\n",
        "    return output\n",
        "\n",
        "\n",
        "  print(codigos(lista))\n",
        "  print(codigos(re.split(r'#',lista2)))\n",
        "\n"
      ],
      "metadata": {
        "id": "6xj01Oy09ncO",
        "colab": {
          "base_uri": "https://localhost:8080/"
        },
        "outputId": "8defe689-21e8-40ae-f495-d492e340612e"
      },
      "execution_count": null,
      "outputs": [
        {
          "output_type": "stream",
          "name": "stdout",
          "text": [
            "[['4700', '000'], ['1234', '567'], ['8541', '543'], ['4123', '974'], ['9481', '025']]\n",
            "[['1234', '777'], ['1198', '999'], ['4715', '012']]\n"
          ]
        }
      ]
    },
    {
      "cell_type": "code",
      "source": [
        "import re\n",
        "\n",
        "lista = [\n",
        "    \"4700-000\",\n",
        "    \"1234-567\",\n",
        "    \"8541-543\",\n",
        "    \"4123-974\",\n",
        "    \"9481-025\"\n",
        "]\n",
        "lista2 = \"1100-3#1234-777#1198-999#4715-012\"\n",
        "\n",
        "def codigos(listaCPs):\n",
        "  codigo = []\n",
        "  x = re.compile(\"\\d{4}-\\d{3}$\")\n",
        "  for l in listaCPs:\n",
        "    if x.match(l):\n",
        "      temp = re.split('-',l)\n",
        "      codigo.append((temp[0], temp[1]))\n",
        "  return codigo\n",
        "\n",
        "print(codigos(lista))\n",
        "print(codigos(re.split(r'#',lista2)))"
      ],
      "metadata": {
        "colab": {
          "base_uri": "https://localhost:8080/"
        },
        "id": "uhFGEQwkTadn",
        "outputId": "81f4a367-cf83-4dae-c7d4-03bdf543a9e9"
      },
      "execution_count": null,
      "outputs": [
        {
          "output_type": "stream",
          "name": "stdout",
          "text": [
            "[('4700', '000'), ('1234', '567'), ('8541', '543'), ('4123', '974'), ('9481', '025')]\n",
            "[('1234', '777'), ('1198', '999'), ('4715', '012')]\n"
          ]
        }
      ]
    }
  ]
}